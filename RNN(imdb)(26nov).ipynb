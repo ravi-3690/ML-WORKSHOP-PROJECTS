{
  "nbformat": 4,
  "nbformat_minor": 0,
  "metadata": {
    "colab": {
      "provenance": [],
      "include_colab_link": true
    },
    "kernelspec": {
      "name": "python3",
      "display_name": "Python 3"
    },
    "language_info": {
      "name": "python"
    }
  },
  "cells": [
    {
      "cell_type": "markdown",
      "metadata": {
        "id": "view-in-github",
        "colab_type": "text"
      },
      "source": [
        "<a href=\"https://colab.research.google.com/github/ravi-3690/ML-WORKSHOP-PROJECTS/blob/main/RNN(imdb)(26nov).ipynb\" target=\"_parent\"><img src=\"https://colab.research.google.com/assets/colab-badge.svg\" alt=\"Open In Colab\"/></a>"
      ]
    },
    {
      "cell_type": "code",
      "execution_count": null,
      "metadata": {
        "id": "hWhkatYrENbM"
      },
      "outputs": [],
      "source": [
        "import tensorflow as tf\n",
        "from tensorflow.keras.datasets import imdb\n",
        "from tensorflow.keras.preprocessing.sequence import pad_sequences\n",
        "from tensorflow.keras.models import Sequential\n",
        "from tensorflow.keras.layers import Embedding, SimpleRNN, Dense"
      ]
    },
    {
      "cell_type": "code",
      "source": [
        "#load IMDB dataset\n",
        "vocab_size = 10000  #Only consider the top 10,000 words\n",
        "max_length = 500    #Maximum length of each sequences\n",
        "(X_train, y_train), (X_test, y_test) = imdb.load_data(num_words=vocab_size)"
      ],
      "metadata": {
        "colab": {
          "base_uri": "https://localhost:8080/"
        },
        "id": "LVHqOicYGbG9",
        "outputId": "bebb5a69-89ec-4803-861e-be10b79f9793"
      },
      "execution_count": null,
      "outputs": [
        {
          "output_type": "stream",
          "name": "stdout",
          "text": [
            "Downloading data from https://storage.googleapis.com/tensorflow/tf-keras-datasets/imdb.npz\n",
            "\u001b[1m17464789/17464789\u001b[0m \u001b[32m━━━━━━━━━━━━━━━━━━━━\u001b[0m\u001b[37m\u001b[0m \u001b[1m0s\u001b[0m 0us/step\n"
          ]
        }
      ]
    },
    {
      "cell_type": "code",
      "source": [
        "#preprocess Data: Pad sequences to make them all the same length\n",
        "x_train = pad_sequences(X_train, maxlen=max_length)\n",
        "x_test = pad_sequences(X_test, maxlen=max_length)"
      ],
      "metadata": {
        "id": "eCyxwBAaGH_o"
      },
      "execution_count": null,
      "outputs": []
    },
    {
      "cell_type": "code",
      "source": [
        "#define the model\n",
        "model = Sequential([\n",
        "    Embedding(input_dim=vocab_size, output_dim=32, input_length=max_length),\n",
        "    SimpleRNN(units=32, return_sequences=False),    # RNN layer\n",
        "    Dense(1, activation='sigmoid')     # Output Layer\n",
        "])"
      ],
      "metadata": {
        "colab": {
          "base_uri": "https://localhost:8080/"
        },
        "id": "1gpy3sK0Gg_t",
        "outputId": "e81942e0-b6d5-49de-9437-12886c8ef19c"
      },
      "execution_count": null,
      "outputs": [
        {
          "output_type": "stream",
          "name": "stderr",
          "text": [
            "/usr/local/lib/python3.10/dist-packages/keras/src/layers/core/embedding.py:90: UserWarning: Argument `input_length` is deprecated. Just remove it.\n",
            "  warnings.warn(\n"
          ]
        }
      ]
    },
    {
      "cell_type": "code",
      "source": [
        "#Compile the model\n",
        "model.compile(optimizer='adam', loss='binary_crossentropy', metrics=['accuracy'])\n"
      ],
      "metadata": {
        "id": "hfWImZJ_G87O"
      },
      "execution_count": null,
      "outputs": []
    },
    {
      "cell_type": "code",
      "source": [
        "#Train the model\n",
        "print(\"Training the model...\")\n",
        "model.fit(x_train, y_train, epochs=3, batch_size=64, validation_split=0.2)"
      ],
      "metadata": {
        "colab": {
          "base_uri": "https://localhost:8080/"
        },
        "id": "ShK_fMF1HNCM",
        "outputId": "b8655f43-3e55-4b02-c166-8923f0834001"
      },
      "execution_count": null,
      "outputs": [
        {
          "output_type": "stream",
          "name": "stdout",
          "text": [
            "Training the model...\n",
            "Epoch 1/3\n",
            "\u001b[1m313/313\u001b[0m \u001b[32m━━━━━━━━━━━━━━━━━━━━\u001b[0m\u001b[37m\u001b[0m \u001b[1m50s\u001b[0m 154ms/step - accuracy: 0.6077 - loss: 0.6395 - val_accuracy: 0.8126 - val_loss: 0.4349\n",
            "Epoch 2/3\n",
            "\u001b[1m313/313\u001b[0m \u001b[32m━━━━━━━━━━━━━━━━━━━━\u001b[0m\u001b[37m\u001b[0m \u001b[1m80s\u001b[0m 149ms/step - accuracy: 0.8457 - loss: 0.3663 - val_accuracy: 0.8478 - val_loss: 0.3609\n",
            "Epoch 3/3\n",
            "\u001b[1m313/313\u001b[0m \u001b[32m━━━━━━━━━━━━━━━━━━━━\u001b[0m\u001b[37m\u001b[0m \u001b[1m46s\u001b[0m 146ms/step - accuracy: 0.9075 - loss: 0.2378 - val_accuracy: 0.7988 - val_loss: 0.4324\n"
          ]
        },
        {
          "output_type": "execute_result",
          "data": {
            "text/plain": [
              "<keras.src.callbacks.history.History at 0x7e31e2f5bc70>"
            ]
          },
          "metadata": {},
          "execution_count": 10
        }
      ]
    },
    {
      "cell_type": "code",
      "source": [
        "#Evaluate the model\n",
        "print(\"\\nEvaluating the model...\")\n",
        "loss, accuracy = model.evaluate(x_test, y_test)\n",
        "print(f\"Test Accuracy: {accuracy * 100:.2f}%\")"
      ],
      "metadata": {
        "colab": {
          "base_uri": "https://localhost:8080/"
        },
        "id": "sOC7uStxICM1",
        "outputId": "04dd4bfa-9eae-4861-e0ab-c13d5cf049ad"
      },
      "execution_count": null,
      "outputs": [
        {
          "output_type": "stream",
          "name": "stdout",
          "text": [
            "\n",
            "Evaluating the model...\n",
            "\u001b[1m782/782\u001b[0m \u001b[32m━━━━━━━━━━━━━━━━━━━━\u001b[0m\u001b[37m\u001b[0m \u001b[1m24s\u001b[0m 30ms/step - accuracy: 0.8021 - loss: 0.4301\n",
            "Test Accuracy: 80.49%\n"
          ]
        }
      ]
    },
    {
      "cell_type": "code",
      "source": [
        "#Test with a customer input\n",
        "#Decode IMDB word index\n",
        "word_index = imdb.get_word_index()\n",
        "reverse_word_index = {value: key for key, value in word_index.items()}\n",
        "def decode_review(sequence):\n",
        "    return \" \".join([reverse_word_index.get(i - 3, '?') for i in sequence])\n",
        "\n",
        "test_review = x_test[0]\n",
        "test_review_padded = pad_sequences([test_review], maxlen=max_length)\n",
        "prediction = model.predict(test_review_padded)\n",
        "print(\"Sentiment Prediction:\", \"Positive\" if prediction > 0.5 else \"Negative\")\n",
        "\n",
        "#print(\"\\nDecoded Review:\", )"
      ],
      "metadata": {
        "colab": {
          "base_uri": "https://localhost:8080/"
        },
        "id": "vQlllIv_IrSt",
        "outputId": "8712c1e0-d3f2-4ac6-973a-2189ed4e3d61"
      },
      "execution_count": null,
      "outputs": [
        {
          "output_type": "stream",
          "name": "stdout",
          "text": [
            "Downloading data from https://storage.googleapis.com/tensorflow/tf-keras-datasets/imdb_word_index.json\n",
            "\u001b[1m1641221/1641221\u001b[0m \u001b[32m━━━━━━━━━━━━━━━━━━━━\u001b[0m\u001b[37m\u001b[0m \u001b[1m0s\u001b[0m 0us/step\n",
            "\u001b[1m1/1\u001b[0m \u001b[32m━━━━━━━━━━━━━━━━━━━━\u001b[0m\u001b[37m\u001b[0m \u001b[1m0s\u001b[0m 192ms/step\n",
            "Sentiment Prediction: Positive\n"
          ]
        }
      ]
    },
    {
      "cell_type": "code",
      "source": [
        "#step 1: Load the imdb word index\n",
        "word_index = imdb.get_word_index()\n",
        "reverse_word_index = {value: key for key, value in word_index.items()}\n"
      ],
      "metadata": {
        "id": "ctGpfbnkJxZu"
      },
      "execution_count": null,
      "outputs": []
    },
    {
      "cell_type": "code",
      "source": [
        "#step 2: Preprocess the customer review\n",
        "def preprocess_review(review_text):\n",
        "  #Convert the review to lowercase and split into words\n",
        "  words = review_text.lower().split()\n",
        "  #Convert words to integers using the IMDB word index\n",
        "  tokenized_review = [word_index.get(word, 2) for word in words]   #Use\n",
        "\n",
        "  # Pad the tokenized sequence\n",
        "  return pad_sequences([tokenized_review], maxlen=max_length)\n",
        "\n"
      ],
      "metadata": {
        "id": "Pd1K26iNPSd1"
      },
      "execution_count": null,
      "outputs": []
    },
    {
      "cell_type": "code",
      "source": [
        "#step 3: TEst with custom input\n",
        "custom_review = \"This movie was terrible!, with poor acting and a boring story.\"\n",
        "processed_review = preprocess_review(custom_review)\n",
        "\n",
        "#Predict the semtiment\n",
        "prediction = model.predict(processed_review)\n",
        "print(\"\\nCustom review:\", custom_review)\n",
        "print(\"Processed review:\", processed_review)\n",
        "print(\"Sentiment prediction:\", \"Positive\" if prediction> 0.5 e)"
      ],
      "metadata": {
        "id": "d0UdMMQPQWAF"
      },
      "execution_count": null,
      "outputs": []
    }
  ]
}